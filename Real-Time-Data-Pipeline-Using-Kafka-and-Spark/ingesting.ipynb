{
 "cells": [
  {
   "cell_type": "code",
   "execution_count": 3,
   "metadata": {},
   "outputs": [
    {
     "ename": "ImportError",
     "evalue": "cannot import name 'KafkaConsumer' from 'kafka' (unknown location)",
     "output_type": "error",
     "traceback": [
      "\u001b[1;31m---------------------------------------------------------------------------\u001b[0m",
      "\u001b[1;31mImportError\u001b[0m                               Traceback (most recent call last)",
      "\u001b[1;32m<ipython-input-3-748ae2c65f54>\u001b[0m in \u001b[0;36m<module>\u001b[1;34m\u001b[0m\n\u001b[0;32m      3\u001b[0m \u001b[1;32mfrom\u001b[0m \u001b[0mdateutil\u001b[0m \u001b[1;32mimport\u001b[0m \u001b[0mparser\u001b[0m\u001b[1;33m\u001b[0m\u001b[1;33m\u001b[0m\u001b[0m\n\u001b[0;32m      4\u001b[0m \u001b[1;32mfrom\u001b[0m \u001b[0mpyspark\u001b[0m \u001b[1;32mimport\u001b[0m \u001b[0mSparkContext\u001b[0m\u001b[1;33m\u001b[0m\u001b[1;33m\u001b[0m\u001b[0m\n\u001b[1;32m----> 5\u001b[1;33m \u001b[1;32mfrom\u001b[0m \u001b[0mkafka\u001b[0m \u001b[1;32mimport\u001b[0m \u001b[0mKafkaConsumer\u001b[0m\u001b[1;33m,\u001b[0m \u001b[0mKafkaProducer\u001b[0m\u001b[1;33m\u001b[0m\u001b[1;33m\u001b[0m\u001b[0m\n\u001b[0m\u001b[0;32m      6\u001b[0m \u001b[1;33m\u001b[0m\u001b[0m\n\u001b[0;32m      7\u001b[0m \u001b[1;31m#Mongo DB\u001b[0m\u001b[1;33m\u001b[0m\u001b[1;33m\u001b[0m\u001b[1;33m\u001b[0m\u001b[0m\n",
      "\u001b[1;31mImportError\u001b[0m: cannot import name 'KafkaConsumer' from 'kafka' (unknown location)"
     ]
    }
   ],
   "source": [
    "import json\n",
    "#from bson import json_util\n",
    "from dateutil import parser\n",
    "from pyspark import SparkContext\n",
    "from kafka import KafkaConsumer, KafkaProducer\n",
    "\n",
    "#Mongo DB\n",
    "from pymongo import MongoClient\n",
    "client = MongoClient('localhost', 27017)\n",
    "db = client['RealTimeDB']\n",
    "collection = db['RealTimeCollection']\n",
    "\n",
    "\n",
    "\n",
    "def timestamp_exist(TimeStamp):\n",
    "    if collection.find({'TimeStamp': {\"$eq\": TimeStamp}}).count() > 0:\n",
    "        return True\n",
    "    else:\n",
    "        return False\n",
    "    \n",
    "def structure_validate_data(msg):\n",
    "    \n",
    "    \n",
    "    data_dict={}\n",
    "    \n",
    "    #create RDD\n",
    "    rdd=sc.parallelize(msg.value.decode(\"utf-8\").split())\n",
    "    \n",
    "    data_dict[\"RawData\"]=str(msg.value.decode(\"utf-8\"))\n",
    "    \n",
    "    #data validation and create json data dict\n",
    "    try:\n",
    "        data_dict[\"TimeStamp\"]=parser.isoparse(rdd.collect()[0])\n",
    "        \n",
    "    except Exception as error:\n",
    "        \n",
    "        \n",
    "        data_dict[\"TimeStamp\"]=\"Error\"\n",
    "    \n",
    "    try:\n",
    "        data_dict[\"WaterTemperature\"]=float(rdd.collect()[1])\n",
    "        \n",
    "        if (((data_dict[\"WaterTemperature\"])>99) | ((data_dict[\"WaterTemperature\"])<-10)):\n",
    "            \n",
    "            data_dict[\"WaterTemperature\"]=\"Sensor Malfunctions\"\n",
    "        \n",
    "        \n",
    "    except Exception as error:\n",
    "        \n",
    "        \n",
    "        data_dict[\"WaterTemperature\"]=\"Error\"\n",
    "        \n",
    "        \n",
    "    try:\n",
    "        data_dict[\"Turbidity\"]=float(rdd.collect()[2])\n",
    "        \n",
    "        if (((data_dict[\"Turbidity\"])>5000)):\n",
    "            \n",
    "            data_dict[\"Turbidity\"]=\"Sensor Malfunctions\"\n",
    "        \n",
    "        \n",
    "    except Exception as error:\n",
    "        \n",
    "        \n",
    "        data_dict[\"Turbidity\"]=\"Error\"\n",
    "        \n",
    "    \n",
    "        \n",
    "    try:\n",
    "        data_dict[\"BatteryLife\"]=float(rdd.collect()[3])\n",
    "        \n",
    "    except Exception as error:\n",
    "        \n",
    "        data_dict[\"BatteryLife\"]=\"Error\"\n",
    "    \n",
    "    \n",
    "    try:\n",
    "        data_dict[\"Beach\"]=str(rdd.collect()[4])\n",
    "        \n",
    "    except Exception as error:\n",
    "            \n",
    "        data_dict[\"Beach\"]=\"Error\"\n",
    "        \n",
    "    try:\n",
    "        data_dict[\"MeasurementID\"]=int(str(rdd.collect()[5]).replace(\"Beach\",\"\"))\n",
    "        \n",
    "    except Exception as error:\n",
    "        \n",
    "        data_dict[\"MeasurementID\"]=\"Error\"\n",
    "\n",
    "    \n",
    "    \n",
    "    return data_dict\n",
    "\n",
    "sc=SparkContext.getOrCreate()\n",
    "sc.setLogLevel(\"WARN\")\n",
    "\n",
    "consumer = KafkaConsumer('RawSensorData', auto_offset_reset='earliest',bootstrap_servers=['localhost:9092'], consumer_timeout_ms=1000)\n",
    "\n",
    "producer = KafkaProducer(bootstrap_servers=['localhost:9092'])\n",
    "\n",
    "for msg in consumer:\n",
    "    if msg.value.decode(\"utf-8\")!=\"Error in Connection\":\n",
    "        data=structure_validate_data(msg)\n",
    "        \n",
    "        if timestamp_exist(data['TimeStamp'])==False:            \n",
    "            #push data to mongo db\n",
    "            collection.insert(data)\n",
    "            producer.send(\"CleanSensorData\", json.dumps(data, default=json_util.default).encode('utf-8'))\n",
    "        \n",
    "        print(data)\n"
   ]
  },
  {
   "cell_type": "code",
   "execution_count": 2,
   "metadata": {},
   "outputs": [
    {
     "name": "stdout",
     "output_type": "stream",
     "text": [
      "Requirement already satisfied: kafka-python in c:\\users\\shubh\\anaconda3\\lib\\site-packages (2.0.2)\n"
     ]
    },
    {
     "name": "stderr",
     "output_type": "stream",
     "text": [
      "WARNING: You are using pip version 22.0.4; however, version 22.1 is available.\n",
      "You should consider upgrading via the 'c:\\users\\shubh\\anaconda3\\python.exe -m pip install --upgrade pip' command.\n"
     ]
    }
   ],
   "source": [
    "!pip install kafka-python"
   ]
  },
  {
   "cell_type": "code",
   "execution_count": null,
   "metadata": {},
   "outputs": [],
   "source": []
  }
 ],
 "metadata": {
  "kernelspec": {
   "display_name": "Python 3",
   "language": "python",
   "name": "python3"
  }
 },
 "nbformat": 4,
 "nbformat_minor": 2
}
